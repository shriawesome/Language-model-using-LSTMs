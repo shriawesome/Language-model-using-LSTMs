{
 "cells": [
  {
   "cell_type": "code",
   "execution_count": 1,
   "id": "fc742fa8-05f0-451a-aad8-d8754bdf9104",
   "metadata": {},
   "outputs": [],
   "source": [
    "import numpy as np\n",
    "\n",
    "import tensorflow as tf\n",
    "from tensorflow.keras.models import Sequential\n",
    "from tensorflow.keras.layers import Dense, Activation, LSTM"
   ]
  },
  {
   "cell_type": "code",
   "execution_count": null,
   "id": "c2ebce4a-c4fa-46e2-b120-d6cf8d37f1fc",
   "metadata": {},
   "outputs": [],
   "source": []
  }
 ],
 "metadata": {
  "kernelspec": {
   "display_name": "tfms",
   "language": "python",
   "name": "tfms"
  },
  "language_info": {
   "codemirror_mode": {
    "name": "ipython",
    "version": 3
   },
   "file_extension": ".py",
   "mimetype": "text/x-python",
   "name": "python",
   "nbconvert_exporter": "python",
   "pygments_lexer": "ipython3",
   "version": "3.9.13"
  }
 },
 "nbformat": 4,
 "nbformat_minor": 5
}
